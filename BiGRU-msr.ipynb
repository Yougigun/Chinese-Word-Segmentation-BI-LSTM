{
 "cells": [
  {
   "cell_type": "markdown",
   "metadata": {},
   "source": [
    "## Import"
   ]
  },
  {
   "cell_type": "code",
   "execution_count": 1,
   "metadata": {
    "ExecuteTime": {
     "end_time": "2020-03-03T01:24:33.137647Z",
     "start_time": "2020-03-03T01:24:30.042151Z"
    }
   },
   "outputs": [],
   "source": [
    "import numpy as np \n",
    "import pandas as pd \n",
    "import matplotlib.pyplot as plt \n",
    "import plotly.express as px\n",
    "import tensorflow as tf\n",
    "import config"
   ]
  },
  {
   "cell_type": "code",
   "execution_count": 2,
   "metadata": {
    "ExecuteTime": {
     "end_time": "2020-03-03T00:35:44.559062Z",
     "start_time": "2020-03-03T00:35:44.307959Z"
    }
   },
   "outputs": [
    {
     "name": "stdout",
     "output_type": "stream",
     "text": [
      "How many lines in  86924\n"
     ]
    }
   ],
   "source": [
    "with open(\"data/icwb2-data/training/msr_training.utf8\",encoding=\"utf-8\") as f:\n",
    "    msr_training=f.readlines()\n",
    "print(\"How many lines in \",len(msr_training))"
   ]
  },
  {
   "cell_type": "markdown",
   "metadata": {},
   "source": [
    "## Tagging"
   ]
  },
  {
   "cell_type": "code",
   "execution_count": 3,
   "metadata": {
    "ExecuteTime": {
     "end_time": "2020-03-03T00:35:49.215554Z",
     "start_time": "2020-03-03T00:35:48.079499Z"
    },
    "scrolled": true
   },
   "outputs": [
    {
     "name": "stdout",
     "output_type": "stream",
     "text": [
      "['“', '人们', '常', '说', '生活', '是', '一', '部', '教科书', '，', '而', '血', '与', '火', '的', '战争', '更', '是', '不可多得', '的', '教科书', '，', '她', '确实', '是', '名副其实', '的', '‘', '我', '的', '大学', '’', '。']\n",
      "['S', 'BE', 'S', 'S', 'BE', 'S', 'S', 'S', 'BME', 'S', 'S', 'S', 'S', 'S', 'S', 'BE', 'S', 'S', 'BMME', 'S', 'BME', 'S', 'S', 'BE', 'S', 'BMME', 'S', 'S', 'S', 'S', 'BE', 'S', 'S']\n"
     ]
    }
   ],
   "source": [
    "from pprint import pprint \n",
    "msr_training_tagged=[]\n",
    "for line in msr_training:\n",
    "    word_list = line.strip().split()\n",
    "    tag=[]\n",
    "    for word in word_list:\n",
    "        if len(word) == 1:\n",
    "            tag.append(\"S\")\n",
    "        else:\n",
    "            tag.append(\"B\"+\"M\"*len(word[1:-1])+\"E\")\n",
    "    msr_training_tagged.append((word_list,tag))\n",
    "print(msr_training_tagged[0][0][:])\n",
    "print(msr_training_tagged[0][1][:])"
   ]
  },
  {
   "cell_type": "markdown",
   "metadata": {},
   "source": [
    "## Making Dictionary"
   ]
  },
  {
   "cell_type": "code",
   "execution_count": 4,
   "metadata": {
    "ExecuteTime": {
     "end_time": "2020-03-03T00:35:56.603854Z",
     "start_time": "2020-03-03T00:35:55.686964Z"
    }
   },
   "outputs": [
    {
     "data": {
      "text/plain": [
       "，         173174\n",
       "的         128147\n",
       "。          81766\n",
       "、          40696\n",
       "在          28445\n",
       "           ...  \n",
       "血库             1\n",
       "巴拉那河流域         1\n",
       "第二百次           1\n",
       "为患             1\n",
       "仝丽             1\n",
       "Length: 88119, dtype: int64"
      ]
     },
     "execution_count": 4,
     "metadata": {},
     "output_type": "execute_result"
    }
   ],
   "source": [
    "word_count = dict()\n",
    "for text, tag in msr_training_tagged:\n",
    "    for word in text :\n",
    "        if word not in word_count:\n",
    "            word_count[word] = 1\n",
    "        else :\n",
    "            word_count[word]+=1\n",
    "pd.Series(word_count).sort_values(ascending=False)"
   ]
  },
  {
   "cell_type": "code",
   "execution_count": 5,
   "metadata": {
    "ExecuteTime": {
     "end_time": "2020-03-03T00:35:58.351385Z",
     "start_time": "2020-03-03T00:35:57.427298Z"
    }
   },
   "outputs": [
    {
     "name": "stdout",
     "output_type": "stream",
     "text": [
      "char_size:  5169\n"
     ]
    }
   ],
   "source": [
    "char_count={}\n",
    "for text, tag in msr_training_tagged:\n",
    "    for char in \"\".join(text):\n",
    "        if char not in char_count: char_count[char]=1\n",
    "        else: char_count[char]+=1\n",
    "char_dict = {} \n",
    "char_dict[\"pad\"]=0\n",
    "char_dict[\"unk\"]=1\n",
    "for i, char in enumerate(char_count.keys()):\n",
    "    char_dict[char] = i+2 \n",
    "char_size=len(char_dict )\n",
    "print(\"char_size: \",char_size)"
   ]
  },
  {
   "cell_type": "markdown",
   "metadata": {},
   "source": [
    "## Preparing Train, Val, Test Dataset"
   ]
  },
  {
   "cell_type": "code",
   "execution_count": 6,
   "metadata": {
    "ExecuteTime": {
     "end_time": "2020-03-03T00:36:04.211792Z",
     "start_time": "2020-03-03T00:35:59.626980Z"
    }
   },
   "outputs": [
    {
     "name": "stdout",
     "output_type": "stream",
     "text": [
      "581\n"
     ]
    },
    {
     "data": {
      "text/plain": [
       "(86924, 581)"
      ]
     },
     "execution_count": 6,
     "metadata": {},
     "output_type": "execute_result"
    }
   ],
   "source": [
    "longest=0\n",
    "\n",
    "x_train=[]\n",
    "for text,tag in msr_training_tagged:\n",
    "    temp=[ char_dict[char] for char in \"\".join(text)]\n",
    "    if len(temp) > longest : longest = len(temp)\n",
    "\n",
    "print(longest)\n",
    "for text,tag in msr_training_tagged:\n",
    "    temp=[ char_dict[char] for char in \"\".join(text)]\n",
    "    if len(temp) < longest : temp+=[0]*(longest-len(temp))\n",
    "    x_train.append(temp)\n",
    "x_train = np.array(x_train)\n",
    "x_train.shape"
   ]
  },
  {
   "cell_type": "code",
   "execution_count": 7,
   "metadata": {
    "ExecuteTime": {
     "end_time": "2020-03-03T00:36:26.498931Z",
     "start_time": "2020-03-03T00:36:04.870504Z"
    },
    "scrolled": true
   },
   "outputs": [
    {
     "data": {
      "text/plain": [
       "(86924, 581, 4)"
      ]
     },
     "execution_count": 7,
     "metadata": {},
     "output_type": "execute_result"
    }
   ],
   "source": [
    "tag_map={\"S\":[1,0,0,0],\"B\":[0,1,0,0],\"M\":[0,0,1,0],\"E\":[0,0,0,1]}\n",
    "y_train=[]\n",
    "for text,tag in msr_training_tagged:\n",
    "    temp=[ tag_map[tag] for tag in \"\".join(tag)]\n",
    "    if len(temp) < longest : temp += [[0,0,0,0]]*(longest-len(temp))\n",
    "    y_train.append(temp)\n",
    "y_train = np.array(y_train)\n",
    "y_train.shape    "
   ]
  },
  {
   "cell_type": "code",
   "execution_count": 8,
   "metadata": {
    "ExecuteTime": {
     "end_time": "2020-03-03T00:36:27.189416Z",
     "start_time": "2020-03-03T00:36:27.184412Z"
    }
   },
   "outputs": [],
   "source": [
    "x_val = x_train[-5000:]\n",
    "y_val = y_train[-5000:]\n",
    "x_train = x_train[:-5000]\n",
    "y_train = y_train[:-5000]"
   ]
  },
  {
   "cell_type": "markdown",
   "metadata": {
    "ExecuteTime": {
     "end_time": "2020-02-28T16:35:10.333278Z",
     "start_time": "2020-02-28T16:35:10.325185Z"
    }
   },
   "source": [
    "## Model"
   ]
  },
  {
   "cell_type": "markdown",
   "metadata": {},
   "source": [
    "### Configure"
   ]
  },
  {
   "cell_type": "code",
   "execution_count": 54,
   "metadata": {
    "ExecuteTime": {
     "end_time": "2020-03-03T01:23:14.598018Z",
     "start_time": "2020-03-03T01:23:14.582861Z"
    }
   },
   "outputs": [
    {
     "ename": "ModuleNotFoundError",
     "evalue": "No module named 'config'",
     "output_type": "error",
     "traceback": [
      "\u001b[1;31m---------------------------------------------------------------------------\u001b[0m",
      "\u001b[1;31mModuleNotFoundError\u001b[0m                       Traceback (most recent call last)",
      "\u001b[1;32m<ipython-input-54-5b3340f0ad70>\u001b[0m in \u001b[0;36m<module>\u001b[1;34m\u001b[0m\n\u001b[0;32m      1\u001b[0m \u001b[1;32mimport\u001b[0m \u001b[0mtensorflow\u001b[0m \u001b[1;32mas\u001b[0m \u001b[0mtf\u001b[0m\u001b[1;33m\u001b[0m\u001b[1;33m\u001b[0m\u001b[0m\n\u001b[1;32m----> 2\u001b[1;33m \u001b[1;32mimport\u001b[0m \u001b[0mconfig\u001b[0m\u001b[1;33m\u001b[0m\u001b[1;33m\u001b[0m\u001b[0m\n\u001b[0m",
      "\u001b[1;31mModuleNotFoundError\u001b[0m: No module named 'config'"
     ]
    }
   ],
   "source": [
    "import tensorflow as tf\n",
    "import config"
   ]
  },
  {
   "cell_type": "code",
   "execution_count": 37,
   "metadata": {
    "ExecuteTime": {
     "end_time": "2020-03-02T15:35:24.567094Z",
     "start_time": "2020-03-02T15:35:24.560281Z"
    }
   },
   "outputs": [],
   "source": [
    "batch_size = 20\n",
    "sequence_size = longest\n",
    "embedding_dim = 100\n",
    "drop_rate = 0.2 \n",
    "file_name = \"BiGRU\"\n",
    "GRU_dim=32\n",
    "epochs = 15\n",
    "workers = 8"
   ]
  },
  {
   "cell_type": "markdown",
   "metadata": {
    "ExecuteTime": {
     "end_time": "2020-02-29T09:34:19.669208Z",
     "start_time": "2020-02-29T09:34:19.665208Z"
    }
   },
   "source": [
    "### Model-Building"
   ]
  },
  {
   "cell_type": "code",
   "execution_count": 38,
   "metadata": {
    "ExecuteTime": {
     "end_time": "2020-03-02T15:35:28.788477Z",
     "start_time": "2020-03-02T15:35:27.263256Z"
    }
   },
   "outputs": [
    {
     "name": "stdout",
     "output_type": "stream",
     "text": [
      "Model: \"model\"\n",
      "_________________________________________________________________\n",
      "Layer (type)                 Output Shape              Param #   \n",
      "=================================================================\n",
      "input_1 (InputLayer)         [(None, None)]            0         \n",
      "_________________________________________________________________\n",
      "embedding (Embedding)        (None, None, 100)         516900    \n",
      "_________________________________________________________________\n",
      "bidirectional (Bidirectional (None, None, 64)          25728     \n",
      "_________________________________________________________________\n",
      "dropout (Dropout)            (None, None, 64)          0         \n",
      "_________________________________________________________________\n",
      "dense (Dense)                (None, None, 4)           260       \n",
      "=================================================================\n",
      "Total params: 542,888\n",
      "Trainable params: 542,888\n",
      "Non-trainable params: 0\n",
      "_________________________________________________________________\n"
     ]
    }
   ],
   "source": [
    "tf.keras.backend.clear_session()\n",
    "input_ = tf.keras.layers.Input((None,))\n",
    "output_ = tf.keras.layers.Embedding(input_dim=char_size, output_dim=embedding_dim, mask_zero=True)(input_)\n",
    "output_ = tf.keras.layers.Bidirectional(tf.keras.layers.GRU(GRU_dim, return_sequences=True), \n",
    "                               input_shape=(sequence_size, embedding_dim))(output_)\n",
    "output_ = tf.keras.layers.Dropout(drop_rate)(output_)\n",
    "output_ = tf.keras.layers.Dense(4,activation=\"sigmoid\")(output_)\n",
    "model = tf.keras.Model(input_, output_)\n",
    "model.summary()"
   ]
  },
  {
   "cell_type": "markdown",
   "metadata": {},
   "source": [
    "### Model Compile"
   ]
  },
  {
   "cell_type": "code",
   "execution_count": 39,
   "metadata": {
    "ExecuteTime": {
     "end_time": "2020-03-02T15:35:31.520553Z",
     "start_time": "2020-03-02T15:35:31.413493Z"
    },
    "code_folding": [
     0
    ]
   },
   "outputs": [],
   "source": [
    "model.compile('adam', 'categorical_crossentropy', metrics=[tf.keras.metrics.CategoricalAccuracy(),\n",
    "                                                          tf.keras.metrics.BinaryAccuracy()])"
   ]
  },
  {
   "cell_type": "markdown",
   "metadata": {},
   "source": [
    "### Model Training & Save"
   ]
  },
  {
   "cell_type": "code",
   "execution_count": 40,
   "metadata": {
    "ExecuteTime": {
     "end_time": "2020-03-02T21:43:36.465697Z",
     "start_time": "2020-03-02T15:35:34.326453Z"
    },
    "code_folding": []
   },
   "outputs": [
    {
     "name": "stdout",
     "output_type": "stream",
     "text": [
      "Train...\n",
      "Train on 81924 samples, validate on 5000 samples\n",
      "Epoch 1/15\n",
      "81924/81924 [==============================] - 1303s 16ms/sample - loss: 0.0315 - categorical_accuracy: 0.8556 - binary_accuracy: 0.8347 - val_loss: 0.0256 - val_categorical_accuracy: 0.8844 - val_binary_accuracy: 0.8139\n",
      "Epoch 2/15\n",
      "81924/81924 [==============================] - 1302s 16ms/sample - loss: 0.0221 - categorical_accuracy: 0.9017 - binary_accuracy: 0.8178 - val_loss: 0.0225 - val_categorical_accuracy: 0.8996 - val_binary_accuracy: 0.8048\n",
      "Epoch 3/15\n",
      "81924/81924 [==============================] - 1454s 18ms/sample - loss: 0.0193 - categorical_accuracy: 0.9147 - binary_accuracy: 0.8110 - val_loss: 0.0207 - val_categorical_accuracy: 0.9084 - val_binary_accuracy: 0.8023\n",
      "Epoch 4/15\n",
      "81924/81924 [==============================] - 1338s 16ms/sample - loss: 0.0175 - categorical_accuracy: 0.9230 - binary_accuracy: 0.8081 - val_loss: 0.0194 - val_categorical_accuracy: 0.9145 - val_binary_accuracy: 0.8038\n",
      "Epoch 5/15\n",
      "81924/81924 [==============================] - 1344s 16ms/sample - loss: 0.0162 - categorical_accuracy: 0.9288 - binary_accuracy: 0.8064 - val_loss: 0.0185 - val_categorical_accuracy: 0.9188 - val_binary_accuracy: 0.7988\n",
      "Epoch 6/15\n",
      "81924/81924 [==============================] - 1373s 17ms/sample - loss: 0.0152 - categorical_accuracy: 0.9333 - binary_accuracy: 0.8052 - val_loss: 0.0181 - val_categorical_accuracy: 0.9213 - val_binary_accuracy: 0.7953\n",
      "Epoch 7/15\n",
      "81924/81924 [==============================] - 1553s 19ms/sample - loss: 0.0144 - categorical_accuracy: 0.9367 - binary_accuracy: 0.8037 - val_loss: 0.0177 - val_categorical_accuracy: 0.9241 - val_binary_accuracy: 0.7994\n",
      "Epoch 8/15\n",
      "81924/81924 [==============================] - 1550s 19ms/sample - loss: 0.0138 - categorical_accuracy: 0.9397 - binary_accuracy: 0.8034 - val_loss: 0.0173 - val_categorical_accuracy: 0.9251 - val_binary_accuracy: 0.7888\n",
      "Epoch 9/15\n",
      "81924/81924 [==============================] - 1553s 19ms/sample - loss: 0.0133 - categorical_accuracy: 0.9419 - binary_accuracy: 0.8016 - val_loss: 0.0170 - val_categorical_accuracy: 0.9274 - val_binary_accuracy: 0.7863\n",
      "Epoch 10/15\n",
      "81924/81924 [==============================] - 1591s 19ms/sample - loss: 0.0128 - categorical_accuracy: 0.9442 - binary_accuracy: 0.8002 - val_loss: 0.0170 - val_categorical_accuracy: 0.9280 - val_binary_accuracy: 0.7917\n",
      "Epoch 11/15\n",
      "81924/81924 [==============================] - 1573s 19ms/sample - loss: 0.0123 - categorical_accuracy: 0.9460 - binary_accuracy: 0.7992 - val_loss: 0.0166 - val_categorical_accuracy: 0.9295 - val_binary_accuracy: 0.7884\n",
      "Epoch 12/15\n",
      "81924/81924 [==============================] - 1574s 19ms/sample - loss: 0.0120 - categorical_accuracy: 0.9476 - binary_accuracy: 0.7990 - val_loss: 0.0166 - val_categorical_accuracy: 0.9299 - val_binary_accuracy: 0.7861\n",
      "Epoch 13/15\n",
      "81924/81924 [==============================] - 1571s 19ms/sample - loss: 0.0117 - categorical_accuracy: 0.9490 - binary_accuracy: 0.7970 - val_loss: 0.0164 - val_categorical_accuracy: 0.9305 - val_binary_accuracy: 0.7843\n",
      "Epoch 14/15\n",
      "81924/81924 [==============================] - 1531s 19ms/sample - loss: 0.0114 - categorical_accuracy: 0.9502 - binary_accuracy: 0.7959 - val_loss: 0.0166 - val_categorical_accuracy: 0.9311 - val_binary_accuracy: 0.7833\n",
      "Epoch 15/15\n",
      "81924/81924 [==============================] - 1474s 18ms/sample - loss: 0.0111 - categorical_accuracy: 0.9512 - binary_accuracy: 0.7959 - val_loss: 0.0164 - val_categorical_accuracy: 0.9316 - val_binary_accuracy: 0.7840\n"
     ]
    },
    {
     "ename": "OSError",
     "evalue": "Unable to create file (unable to open file: name = 'BiGRU.h5', errno = 22, error message = 'Invalid argument', flags = 13, o_flags = 302)",
     "output_type": "error",
     "traceback": [
      "\u001b[1;31m---------------------------------------------------------------------------\u001b[0m",
      "\u001b[1;31mOSError\u001b[0m                                   Traceback (most recent call last)",
      "\u001b[1;32m<ipython-input-40-04d4c5f8858f>\u001b[0m in \u001b[0;36m<module>\u001b[1;34m\u001b[0m\n\u001b[0;32m      8\u001b[0m                 )\n\u001b[0;32m      9\u001b[0m \u001b[0mmodel\u001b[0m\u001b[1;33m.\u001b[0m\u001b[0mreset_metrics\u001b[0m\u001b[1;33m(\u001b[0m\u001b[1;33m)\u001b[0m\u001b[1;33m\u001b[0m\u001b[1;33m\u001b[0m\u001b[0m\n\u001b[1;32m---> 10\u001b[1;33m \u001b[0mmodel\u001b[0m\u001b[1;33m.\u001b[0m\u001b[0msave\u001b[0m\u001b[1;33m(\u001b[0m\u001b[1;34m\"{}.h5\"\u001b[0m\u001b[1;33m.\u001b[0m\u001b[0mformat\u001b[0m\u001b[1;33m(\u001b[0m\u001b[0mfile_name\u001b[0m\u001b[1;33m)\u001b[0m\u001b[1;33m)\u001b[0m\u001b[1;33m\u001b[0m\u001b[1;33m\u001b[0m\u001b[0m\n\u001b[0m",
      "\u001b[1;32m~\\AppData\\Roaming\\Python\\Python37\\site-packages\\tensorflow_core\\python\\keras\\engine\\network.py\u001b[0m in \u001b[0;36msave\u001b[1;34m(self, filepath, overwrite, include_optimizer, save_format, signatures, options)\u001b[0m\n\u001b[0;32m   1006\u001b[0m     \"\"\"\n\u001b[0;32m   1007\u001b[0m     save.save_model(self, filepath, overwrite, include_optimizer, save_format,\n\u001b[1;32m-> 1008\u001b[1;33m                     signatures, options)\n\u001b[0m\u001b[0;32m   1009\u001b[0m \u001b[1;33m\u001b[0m\u001b[0m\n\u001b[0;32m   1010\u001b[0m   \u001b[1;32mdef\u001b[0m \u001b[0msave_weights\u001b[0m\u001b[1;33m(\u001b[0m\u001b[0mself\u001b[0m\u001b[1;33m,\u001b[0m \u001b[0mfilepath\u001b[0m\u001b[1;33m,\u001b[0m \u001b[0moverwrite\u001b[0m\u001b[1;33m=\u001b[0m\u001b[1;32mTrue\u001b[0m\u001b[1;33m,\u001b[0m \u001b[0msave_format\u001b[0m\u001b[1;33m=\u001b[0m\u001b[1;32mNone\u001b[0m\u001b[1;33m)\u001b[0m\u001b[1;33m:\u001b[0m\u001b[1;33m\u001b[0m\u001b[1;33m\u001b[0m\u001b[0m\n",
      "\u001b[1;32m~\\AppData\\Roaming\\Python\\Python37\\site-packages\\tensorflow_core\\python\\keras\\saving\\save.py\u001b[0m in \u001b[0;36msave_model\u001b[1;34m(model, filepath, overwrite, include_optimizer, save_format, signatures, options)\u001b[0m\n\u001b[0;32m    110\u001b[0m           'or using `save_weights`.')\n\u001b[0;32m    111\u001b[0m     hdf5_format.save_model_to_hdf5(\n\u001b[1;32m--> 112\u001b[1;33m         model, filepath, overwrite, include_optimizer)\n\u001b[0m\u001b[0;32m    113\u001b[0m   \u001b[1;32melse\u001b[0m\u001b[1;33m:\u001b[0m\u001b[1;33m\u001b[0m\u001b[1;33m\u001b[0m\u001b[0m\n\u001b[0;32m    114\u001b[0m     saved_model_save.save(model, filepath, overwrite, include_optimizer,\n",
      "\u001b[1;32m~\\AppData\\Roaming\\Python\\Python37\\site-packages\\tensorflow_core\\python\\keras\\saving\\hdf5_format.py\u001b[0m in \u001b[0;36msave_model_to_hdf5\u001b[1;34m(model, filepath, overwrite, include_optimizer)\u001b[0m\n\u001b[0;32m     90\u001b[0m         \u001b[1;32mreturn\u001b[0m\u001b[1;33m\u001b[0m\u001b[1;33m\u001b[0m\u001b[0m\n\u001b[0;32m     91\u001b[0m \u001b[1;33m\u001b[0m\u001b[0m\n\u001b[1;32m---> 92\u001b[1;33m     \u001b[0mf\u001b[0m \u001b[1;33m=\u001b[0m \u001b[0mh5py\u001b[0m\u001b[1;33m.\u001b[0m\u001b[0mFile\u001b[0m\u001b[1;33m(\u001b[0m\u001b[0mfilepath\u001b[0m\u001b[1;33m,\u001b[0m \u001b[0mmode\u001b[0m\u001b[1;33m=\u001b[0m\u001b[1;34m'w'\u001b[0m\u001b[1;33m)\u001b[0m\u001b[1;33m\u001b[0m\u001b[1;33m\u001b[0m\u001b[0m\n\u001b[0m\u001b[0;32m     93\u001b[0m     \u001b[0mopened_new_file\u001b[0m \u001b[1;33m=\u001b[0m \u001b[1;32mTrue\u001b[0m\u001b[1;33m\u001b[0m\u001b[1;33m\u001b[0m\u001b[0m\n\u001b[0;32m     94\u001b[0m   \u001b[1;32melse\u001b[0m\u001b[1;33m:\u001b[0m\u001b[1;33m\u001b[0m\u001b[1;33m\u001b[0m\u001b[0m\n",
      "\u001b[1;32mC:\\Anaconda3\\lib\\site-packages\\h5py\\_hl\\files.py\u001b[0m in \u001b[0;36m__init__\u001b[1;34m(self, name, mode, driver, libver, userblock_size, swmr, rdcc_nslots, rdcc_nbytes, rdcc_w0, track_order, **kwds)\u001b[0m\n\u001b[0;32m    392\u001b[0m                 fid = make_fid(name, mode, userblock_size,\n\u001b[0;32m    393\u001b[0m                                \u001b[0mfapl\u001b[0m\u001b[1;33m,\u001b[0m \u001b[0mfcpl\u001b[0m\u001b[1;33m=\u001b[0m\u001b[0mmake_fcpl\u001b[0m\u001b[1;33m(\u001b[0m\u001b[0mtrack_order\u001b[0m\u001b[1;33m=\u001b[0m\u001b[0mtrack_order\u001b[0m\u001b[1;33m)\u001b[0m\u001b[1;33m,\u001b[0m\u001b[1;33m\u001b[0m\u001b[1;33m\u001b[0m\u001b[0m\n\u001b[1;32m--> 394\u001b[1;33m                                swmr=swmr)\n\u001b[0m\u001b[0;32m    395\u001b[0m \u001b[1;33m\u001b[0m\u001b[0m\n\u001b[0;32m    396\u001b[0m             \u001b[1;32mif\u001b[0m \u001b[0mswmr_support\u001b[0m\u001b[1;33m:\u001b[0m\u001b[1;33m\u001b[0m\u001b[1;33m\u001b[0m\u001b[0m\n",
      "\u001b[1;32mC:\\Anaconda3\\lib\\site-packages\\h5py\\_hl\\files.py\u001b[0m in \u001b[0;36mmake_fid\u001b[1;34m(name, mode, userblock_size, fapl, fcpl, swmr)\u001b[0m\n\u001b[0;32m    174\u001b[0m         \u001b[0mfid\u001b[0m \u001b[1;33m=\u001b[0m \u001b[0mh5f\u001b[0m\u001b[1;33m.\u001b[0m\u001b[0mcreate\u001b[0m\u001b[1;33m(\u001b[0m\u001b[0mname\u001b[0m\u001b[1;33m,\u001b[0m \u001b[0mh5f\u001b[0m\u001b[1;33m.\u001b[0m\u001b[0mACC_EXCL\u001b[0m\u001b[1;33m,\u001b[0m \u001b[0mfapl\u001b[0m\u001b[1;33m=\u001b[0m\u001b[0mfapl\u001b[0m\u001b[1;33m,\u001b[0m \u001b[0mfcpl\u001b[0m\u001b[1;33m=\u001b[0m\u001b[0mfcpl\u001b[0m\u001b[1;33m)\u001b[0m\u001b[1;33m\u001b[0m\u001b[1;33m\u001b[0m\u001b[0m\n\u001b[0;32m    175\u001b[0m     \u001b[1;32melif\u001b[0m \u001b[0mmode\u001b[0m \u001b[1;33m==\u001b[0m \u001b[1;34m'w'\u001b[0m\u001b[1;33m:\u001b[0m\u001b[1;33m\u001b[0m\u001b[1;33m\u001b[0m\u001b[0m\n\u001b[1;32m--> 176\u001b[1;33m         \u001b[0mfid\u001b[0m \u001b[1;33m=\u001b[0m \u001b[0mh5f\u001b[0m\u001b[1;33m.\u001b[0m\u001b[0mcreate\u001b[0m\u001b[1;33m(\u001b[0m\u001b[0mname\u001b[0m\u001b[1;33m,\u001b[0m \u001b[0mh5f\u001b[0m\u001b[1;33m.\u001b[0m\u001b[0mACC_TRUNC\u001b[0m\u001b[1;33m,\u001b[0m \u001b[0mfapl\u001b[0m\u001b[1;33m=\u001b[0m\u001b[0mfapl\u001b[0m\u001b[1;33m,\u001b[0m \u001b[0mfcpl\u001b[0m\u001b[1;33m=\u001b[0m\u001b[0mfcpl\u001b[0m\u001b[1;33m)\u001b[0m\u001b[1;33m\u001b[0m\u001b[1;33m\u001b[0m\u001b[0m\n\u001b[0m\u001b[0;32m    177\u001b[0m     \u001b[1;32melif\u001b[0m \u001b[0mmode\u001b[0m \u001b[1;33m==\u001b[0m \u001b[1;34m'a'\u001b[0m\u001b[1;33m:\u001b[0m\u001b[1;33m\u001b[0m\u001b[1;33m\u001b[0m\u001b[0m\n\u001b[0;32m    178\u001b[0m         \u001b[1;31m# Open in append mode (read/write).\u001b[0m\u001b[1;33m\u001b[0m\u001b[1;33m\u001b[0m\u001b[1;33m\u001b[0m\u001b[0m\n",
      "\u001b[1;32mh5py\\_objects.pyx\u001b[0m in \u001b[0;36mh5py._objects.with_phil.wrapper\u001b[1;34m()\u001b[0m\n",
      "\u001b[1;32mh5py\\_objects.pyx\u001b[0m in \u001b[0;36mh5py._objects.with_phil.wrapper\u001b[1;34m()\u001b[0m\n",
      "\u001b[1;32mh5py\\h5f.pyx\u001b[0m in \u001b[0;36mh5py.h5f.create\u001b[1;34m()\u001b[0m\n",
      "\u001b[1;31mOSError\u001b[0m: Unable to create file (unable to open file: name = 'BiGRU.h5', errno = 22, error message = 'Invalid argument', flags = 13, o_flags = 302)"
     ]
    }
   ],
   "source": [
    "print('Train...')\n",
    "History = model.fit(\n",
    "                x=x_train, y=y_train, \n",
    "                validation_data=(x_val, y_val),\n",
    "                batch_size=batch_size,\n",
    "                epochs=epochs,\n",
    "                workers=workers,\n",
    "                )\n",
    "model.reset_metrics()\n",
    "model.save(\"{}.h5\".format(file_name))"
   ]
  },
  {
   "cell_type": "code",
   "execution_count": 56,
   "metadata": {
    "ExecuteTime": {
     "end_time": "2020-03-02T23:19:23.011735Z",
     "start_time": "2020-03-02T23:19:22.879975Z"
    }
   },
   "outputs": [
    {
     "ename": "OSError",
     "evalue": "Unable to create file (unable to open file: name = 'BiGRU.h5', errno = 22, error message = 'Invalid argument', flags = 13, o_flags = 302)",
     "output_type": "error",
     "traceback": [
      "\u001b[1;31m---------------------------------------------------------------------------\u001b[0m",
      "\u001b[1;31mOSError\u001b[0m                                   Traceback (most recent call last)",
      "\u001b[1;32m<ipython-input-56-fd07f808e86d>\u001b[0m in \u001b[0;36m<module>\u001b[1;34m\u001b[0m\n\u001b[1;32m----> 1\u001b[1;33m \u001b[0mmodel\u001b[0m\u001b[1;33m.\u001b[0m\u001b[0msave\u001b[0m\u001b[1;33m(\u001b[0m\u001b[1;34m\"BiGRU.h5\"\u001b[0m\u001b[1;33m)\u001b[0m\u001b[1;33m\u001b[0m\u001b[1;33m\u001b[0m\u001b[0m\n\u001b[0m",
      "\u001b[1;32m~\\AppData\\Roaming\\Python\\Python37\\site-packages\\tensorflow_core\\python\\keras\\engine\\network.py\u001b[0m in \u001b[0;36msave\u001b[1;34m(self, filepath, overwrite, include_optimizer, save_format, signatures, options)\u001b[0m\n\u001b[0;32m   1006\u001b[0m     \"\"\"\n\u001b[0;32m   1007\u001b[0m     save.save_model(self, filepath, overwrite, include_optimizer, save_format,\n\u001b[1;32m-> 1008\u001b[1;33m                     signatures, options)\n\u001b[0m\u001b[0;32m   1009\u001b[0m \u001b[1;33m\u001b[0m\u001b[0m\n\u001b[0;32m   1010\u001b[0m   \u001b[1;32mdef\u001b[0m \u001b[0msave_weights\u001b[0m\u001b[1;33m(\u001b[0m\u001b[0mself\u001b[0m\u001b[1;33m,\u001b[0m \u001b[0mfilepath\u001b[0m\u001b[1;33m,\u001b[0m \u001b[0moverwrite\u001b[0m\u001b[1;33m=\u001b[0m\u001b[1;32mTrue\u001b[0m\u001b[1;33m,\u001b[0m \u001b[0msave_format\u001b[0m\u001b[1;33m=\u001b[0m\u001b[1;32mNone\u001b[0m\u001b[1;33m)\u001b[0m\u001b[1;33m:\u001b[0m\u001b[1;33m\u001b[0m\u001b[1;33m\u001b[0m\u001b[0m\n",
      "\u001b[1;32m~\\AppData\\Roaming\\Python\\Python37\\site-packages\\tensorflow_core\\python\\keras\\saving\\save.py\u001b[0m in \u001b[0;36msave_model\u001b[1;34m(model, filepath, overwrite, include_optimizer, save_format, signatures, options)\u001b[0m\n\u001b[0;32m    110\u001b[0m           'or using `save_weights`.')\n\u001b[0;32m    111\u001b[0m     hdf5_format.save_model_to_hdf5(\n\u001b[1;32m--> 112\u001b[1;33m         model, filepath, overwrite, include_optimizer)\n\u001b[0m\u001b[0;32m    113\u001b[0m   \u001b[1;32melse\u001b[0m\u001b[1;33m:\u001b[0m\u001b[1;33m\u001b[0m\u001b[1;33m\u001b[0m\u001b[0m\n\u001b[0;32m    114\u001b[0m     saved_model_save.save(model, filepath, overwrite, include_optimizer,\n",
      "\u001b[1;32m~\\AppData\\Roaming\\Python\\Python37\\site-packages\\tensorflow_core\\python\\keras\\saving\\hdf5_format.py\u001b[0m in \u001b[0;36msave_model_to_hdf5\u001b[1;34m(model, filepath, overwrite, include_optimizer)\u001b[0m\n\u001b[0;32m     90\u001b[0m         \u001b[1;32mreturn\u001b[0m\u001b[1;33m\u001b[0m\u001b[1;33m\u001b[0m\u001b[0m\n\u001b[0;32m     91\u001b[0m \u001b[1;33m\u001b[0m\u001b[0m\n\u001b[1;32m---> 92\u001b[1;33m     \u001b[0mf\u001b[0m \u001b[1;33m=\u001b[0m \u001b[0mh5py\u001b[0m\u001b[1;33m.\u001b[0m\u001b[0mFile\u001b[0m\u001b[1;33m(\u001b[0m\u001b[0mfilepath\u001b[0m\u001b[1;33m,\u001b[0m \u001b[0mmode\u001b[0m\u001b[1;33m=\u001b[0m\u001b[1;34m'w'\u001b[0m\u001b[1;33m)\u001b[0m\u001b[1;33m\u001b[0m\u001b[1;33m\u001b[0m\u001b[0m\n\u001b[0m\u001b[0;32m     93\u001b[0m     \u001b[0mopened_new_file\u001b[0m \u001b[1;33m=\u001b[0m \u001b[1;32mTrue\u001b[0m\u001b[1;33m\u001b[0m\u001b[1;33m\u001b[0m\u001b[0m\n\u001b[0;32m     94\u001b[0m   \u001b[1;32melse\u001b[0m\u001b[1;33m:\u001b[0m\u001b[1;33m\u001b[0m\u001b[1;33m\u001b[0m\u001b[0m\n",
      "\u001b[1;32mC:\\Anaconda3\\lib\\site-packages\\h5py\\_hl\\files.py\u001b[0m in \u001b[0;36m__init__\u001b[1;34m(self, name, mode, driver, libver, userblock_size, swmr, rdcc_nslots, rdcc_nbytes, rdcc_w0, track_order, **kwds)\u001b[0m\n\u001b[0;32m    392\u001b[0m                 fid = make_fid(name, mode, userblock_size,\n\u001b[0;32m    393\u001b[0m                                \u001b[0mfapl\u001b[0m\u001b[1;33m,\u001b[0m \u001b[0mfcpl\u001b[0m\u001b[1;33m=\u001b[0m\u001b[0mmake_fcpl\u001b[0m\u001b[1;33m(\u001b[0m\u001b[0mtrack_order\u001b[0m\u001b[1;33m=\u001b[0m\u001b[0mtrack_order\u001b[0m\u001b[1;33m)\u001b[0m\u001b[1;33m,\u001b[0m\u001b[1;33m\u001b[0m\u001b[1;33m\u001b[0m\u001b[0m\n\u001b[1;32m--> 394\u001b[1;33m                                swmr=swmr)\n\u001b[0m\u001b[0;32m    395\u001b[0m \u001b[1;33m\u001b[0m\u001b[0m\n\u001b[0;32m    396\u001b[0m             \u001b[1;32mif\u001b[0m \u001b[0mswmr_support\u001b[0m\u001b[1;33m:\u001b[0m\u001b[1;33m\u001b[0m\u001b[1;33m\u001b[0m\u001b[0m\n",
      "\u001b[1;32mC:\\Anaconda3\\lib\\site-packages\\h5py\\_hl\\files.py\u001b[0m in \u001b[0;36mmake_fid\u001b[1;34m(name, mode, userblock_size, fapl, fcpl, swmr)\u001b[0m\n\u001b[0;32m    174\u001b[0m         \u001b[0mfid\u001b[0m \u001b[1;33m=\u001b[0m \u001b[0mh5f\u001b[0m\u001b[1;33m.\u001b[0m\u001b[0mcreate\u001b[0m\u001b[1;33m(\u001b[0m\u001b[0mname\u001b[0m\u001b[1;33m,\u001b[0m \u001b[0mh5f\u001b[0m\u001b[1;33m.\u001b[0m\u001b[0mACC_EXCL\u001b[0m\u001b[1;33m,\u001b[0m \u001b[0mfapl\u001b[0m\u001b[1;33m=\u001b[0m\u001b[0mfapl\u001b[0m\u001b[1;33m,\u001b[0m \u001b[0mfcpl\u001b[0m\u001b[1;33m=\u001b[0m\u001b[0mfcpl\u001b[0m\u001b[1;33m)\u001b[0m\u001b[1;33m\u001b[0m\u001b[1;33m\u001b[0m\u001b[0m\n\u001b[0;32m    175\u001b[0m     \u001b[1;32melif\u001b[0m \u001b[0mmode\u001b[0m \u001b[1;33m==\u001b[0m \u001b[1;34m'w'\u001b[0m\u001b[1;33m:\u001b[0m\u001b[1;33m\u001b[0m\u001b[1;33m\u001b[0m\u001b[0m\n\u001b[1;32m--> 176\u001b[1;33m         \u001b[0mfid\u001b[0m \u001b[1;33m=\u001b[0m \u001b[0mh5f\u001b[0m\u001b[1;33m.\u001b[0m\u001b[0mcreate\u001b[0m\u001b[1;33m(\u001b[0m\u001b[0mname\u001b[0m\u001b[1;33m,\u001b[0m \u001b[0mh5f\u001b[0m\u001b[1;33m.\u001b[0m\u001b[0mACC_TRUNC\u001b[0m\u001b[1;33m,\u001b[0m \u001b[0mfapl\u001b[0m\u001b[1;33m=\u001b[0m\u001b[0mfapl\u001b[0m\u001b[1;33m,\u001b[0m \u001b[0mfcpl\u001b[0m\u001b[1;33m=\u001b[0m\u001b[0mfcpl\u001b[0m\u001b[1;33m)\u001b[0m\u001b[1;33m\u001b[0m\u001b[1;33m\u001b[0m\u001b[0m\n\u001b[0m\u001b[0;32m    177\u001b[0m     \u001b[1;32melif\u001b[0m \u001b[0mmode\u001b[0m \u001b[1;33m==\u001b[0m \u001b[1;34m'a'\u001b[0m\u001b[1;33m:\u001b[0m\u001b[1;33m\u001b[0m\u001b[1;33m\u001b[0m\u001b[0m\n\u001b[0;32m    178\u001b[0m         \u001b[1;31m# Open in append mode (read/write).\u001b[0m\u001b[1;33m\u001b[0m\u001b[1;33m\u001b[0m\u001b[1;33m\u001b[0m\u001b[0m\n",
      "\u001b[1;32mh5py\\_objects.pyx\u001b[0m in \u001b[0;36mh5py._objects.with_phil.wrapper\u001b[1;34m()\u001b[0m\n",
      "\u001b[1;32mh5py\\_objects.pyx\u001b[0m in \u001b[0;36mh5py._objects.with_phil.wrapper\u001b[1;34m()\u001b[0m\n",
      "\u001b[1;32mh5py\\h5f.pyx\u001b[0m in \u001b[0;36mh5py.h5f.create\u001b[1;34m()\u001b[0m\n",
      "\u001b[1;31mOSError\u001b[0m: Unable to create file (unable to open file: name = 'BiGRU.h5', errno = 22, error message = 'Invalid argument', flags = 13, o_flags = 302)"
     ]
    }
   ],
   "source": [
    "model.save(\"BiGRU.h5\")"
   ]
  },
  {
   "cell_type": "markdown",
   "metadata": {},
   "source": [
    "## Model loss plot"
   ]
  },
  {
   "cell_type": "code",
   "execution_count": 41,
   "metadata": {
    "ExecuteTime": {
     "end_time": "2020-03-02T23:10:03.270237Z",
     "start_time": "2020-03-02T23:10:02.789246Z"
    },
    "scrolled": true
   },
   "outputs": [
    {
     "data": {
      "text/plain": [
       "<matplotlib.axes._subplots.AxesSubplot at 0x2459ae338c8>"
      ]
     },
     "execution_count": 41,
     "metadata": {},
     "output_type": "execute_result"
    },
    {
     "data": {
      "image/png": "[encoded data removed]",
      "text/plain": [
       "<Figure size 432x288 with 1 Axes>"
      ]
     },
     "metadata": {
      "needs_background": "light"
     },
     "output_type": "display_data"
    },
    {
     "data": {
      "image/png": "[encoded data removed]",
      "text/plain": [
       "<Figure size 432x288 with 1 Axes>"
      ]
     },
     "metadata": {
      "needs_background": "light"
     },
     "output_type": "display_data"
    },
    {
     "data": {
      "image/png": "[encoded data removed]",
      "text/plain": [
       "<Figure size 432x288 with 1 Axes>"
      ]
     },
     "metadata": {
      "needs_background": "light"
     },
     "output_type": "display_data"
    }
   ],
   "source": [
    "pd.DataFrame(History.history)[[\"loss\",\"val_loss\"]].plot()\n",
    "pd.DataFrame(History.history)[[\"categorical_accuracy\",\"val_categorical_accuracy\"]].plot()\n",
    "pd.DataFrame(History.history)[[\"binary_accuracy\",\"val_binary_accuracy\"]].plot()"
   ]
  },
  {
   "cell_type": "markdown",
   "metadata": {},
   "source": [
    "# Test"
   ]
  },
  {
   "cell_type": "markdown",
   "metadata": {},
   "source": [
    "## Load model"
   ]
  },
  {
   "cell_type": "code",
   "execution_count": 3,
   "metadata": {
    "ExecuteTime": {
     "end_time": "2020-03-03T01:35:47.574037Z",
     "start_time": "2020-03-03T01:35:46.690619Z"
    }
   },
   "outputs": [],
   "source": [
    "model=tf.keras.models.load_model(\"BiGRU.h5\")"
   ]
  },
  {
   "cell_type": "code",
   "execution_count": 4,
   "metadata": {
    "ExecuteTime": {
     "end_time": "2020-03-03T01:35:48.675925Z",
     "start_time": "2020-03-03T01:35:48.669469Z"
    }
   },
   "outputs": [
    {
     "name": "stdout",
     "output_type": "stream",
     "text": [
      "Model: \"model\"\n",
      "_________________________________________________________________\n",
      "Layer (type)                 Output Shape              Param #   \n",
      "=================================================================\n",
      "input_1 (InputLayer)         [(None, None)]            0         \n",
      "_________________________________________________________________\n",
      "embedding (Embedding)        (None, None, 100)         516900    \n",
      "_________________________________________________________________\n",
      "bidirectional (Bidirectional (None, None, 64)          25728     \n",
      "_________________________________________________________________\n",
      "dropout (Dropout)            (None, None, 64)          0         \n",
      "_________________________________________________________________\n",
      "dense (Dense)                (None, None, 4)           260       \n",
      "=================================================================\n",
      "Total params: 542,888\n",
      "Trainable params: 542,888\n",
      "Non-trainable params: 0\n",
      "_________________________________________________________________\n"
     ]
    }
   ],
   "source": [
    "model.summary()"
   ]
  },
  {
   "cell_type": "code",
   "execution_count": 6,
   "metadata": {
    "ExecuteTime": {
     "end_time": "2020-03-03T01:36:11.482380Z",
     "start_time": "2020-03-03T01:36:11.470265Z"
    },
    "scrolled": true
   },
   "outputs": [
    {
     "data": {
      "text/plain": [
       "{'name': 'model',\n",
       " 'layers': [{'class_name': 'InputLayer',\n",
       "   'config': {'batch_input_shape': (None, None),\n",
       "    'dtype': 'float32',\n",
       "    'sparse': False,\n",
       "    'ragged': False,\n",
       "    'name': 'input_1'},\n",
       "   'name': 'input_1',\n",
       "   'inbound_nodes': []},\n",
       "  {'class_name': 'Embedding',\n",
       "   'config': {'name': 'embedding',\n",
       "    'trainable': True,\n",
       "    'batch_input_shape': (None, None),\n",
       "    'dtype': 'float32',\n",
       "    'input_dim': 5169,\n",
       "    'output_dim': 100,\n",
       "    'embeddings_initializer': {'class_name': 'RandomUniform',\n",
       "     'config': {'minval': -0.05, 'maxval': 0.05, 'seed': None}},\n",
       "    'embeddings_regularizer': None,\n",
       "    'activity_regularizer': None,\n",
       "    'embeddings_constraint': None,\n",
       "    'mask_zero': True,\n",
       "    'input_length': None},\n",
       "   'name': 'embedding',\n",
       "   'inbound_nodes': [[['input_1', 0, 0, {}]]]},\n",
       "  {'class_name': 'Bidirectional',\n",
       "   'config': {'name': 'bidirectional',\n",
       "    'trainable': True,\n",
       "    'batch_input_shape': (None, 581, 100),\n",
       "    'dtype': 'float32',\n",
       "    'layer': {'class_name': 'GRU',\n",
       "     'config': {'name': 'gru',\n",
       "      'trainable': True,\n",
       "      'dtype': 'float32',\n",
       "      'return_sequences': True,\n",
       "      'return_state': False,\n",
       "      'go_backwards': False,\n",
       "      'stateful': False,\n",
       "      'unroll': False,\n",
       "      'time_major': False,\n",
       "      'units': 32,\n",
       "      'activation': 'tanh',\n",
       "      'recurrent_activation': 'sigmoid',\n",
       "      'use_bias': True,\n",
       "      'kernel_initializer': {'class_name': 'GlorotUniform',\n",
       "       'config': {'seed': None}},\n",
       "      'recurrent_initializer': {'class_name': 'Orthogonal',\n",
       "       'config': {'gain': 1.0, 'seed': None}},\n",
       "      'bias_initializer': {'class_name': 'Zeros', 'config': {}},\n",
       "      'kernel_regularizer': None,\n",
       "      'recurrent_regularizer': None,\n",
       "      'bias_regularizer': None,\n",
       "      'activity_regularizer': None,\n",
       "      'kernel_constraint': None,\n",
       "      'recurrent_constraint': None,\n",
       "      'bias_constraint': None,\n",
       "      'dropout': 0.0,\n",
       "      'recurrent_dropout': 0.0,\n",
       "      'implementation': 2,\n",
       "      'reset_after': True}},\n",
       "    'merge_mode': 'concat'},\n",
       "   'name': 'bidirectional',\n",
       "   'inbound_nodes': [[['embedding', 0, 0, {}]]]},\n",
       "  {'class_name': 'Dropout',\n",
       "   'config': {'name': 'dropout',\n",
       "    'trainable': True,\n",
       "    'dtype': 'float32',\n",
       "    'rate': 0.2,\n",
       "    'noise_shape': None,\n",
       "    'seed': None},\n",
       "   'name': 'dropout',\n",
       "   'inbound_nodes': [[['bidirectional', 0, 0, {}]]]},\n",
       "  {'class_name': 'Dense',\n",
       "   'config': {'name': 'dense',\n",
       "    'trainable': True,\n",
       "    'dtype': 'float32',\n",
       "    'units': 4,\n",
       "    'activation': 'sigmoid',\n",
       "    'use_bias': True,\n",
       "    'kernel_initializer': {'class_name': 'GlorotUniform',\n",
       "     'config': {'seed': None}},\n",
       "    'bias_initializer': {'class_name': 'Zeros', 'config': {}},\n",
       "    'kernel_regularizer': None,\n",
       "    'bias_regularizer': None,\n",
       "    'activity_regularizer': None,\n",
       "    'kernel_constraint': None,\n",
       "    'bias_constraint': None},\n",
       "   'name': 'dense',\n",
       "   'inbound_nodes': [[['dropout', 0, 0, {}]]]}],\n",
       " 'input_layers': [['input_1', 0, 0]],\n",
       " 'output_layers': [['dense', 0, 0]]}"
      ]
     },
     "execution_count": 6,
     "metadata": {},
     "output_type": "execute_result"
    }
   ],
   "source": [
    "# model.get_config()"
   ]
  },
  {
   "cell_type": "code",
   "execution_count": 10,
   "metadata": {
    "ExecuteTime": {
     "end_time": "2020-03-03T01:42:42.268333Z",
     "start_time": "2020-03-03T01:42:42.259408Z"
    }
   },
   "outputs": [
    {
     "data": {
      "text/plain": [
       "['In',\n",
       " 'NamespaceMagics',\n",
       " 'Out',\n",
       " '_',\n",
       " '_5',\n",
       " '_6',\n",
       " '_7',\n",
       " '_8',\n",
       " '_Jupyter',\n",
       " '__',\n",
       " '___',\n",
       " '__builtin__',\n",
       " '__builtins__',\n",
       " '__doc__',\n",
       " '__loader__',\n",
       " '__name__',\n",
       " '__package__',\n",
       " '__spec__',\n",
       " '_dh',\n",
       " '_getshapeof',\n",
       " '_getsizeof',\n",
       " '_i',\n",
       " '_i1',\n",
       " '_i10',\n",
       " '_i2',\n",
       " '_i3',\n",
       " '_i4',\n",
       " '_i5',\n",
       " '_i6',\n",
       " '_i7',\n",
       " '_i8',\n",
       " '_i9',\n",
       " '_ih',\n",
       " '_ii',\n",
       " '_iii',\n",
       " '_nms',\n",
       " '_oh',\n",
       " 'config',\n",
       " 'exit',\n",
       " 'get_ipython',\n",
       " 'getsizeof',\n",
       " 'json',\n",
       " 'model',\n",
       " 'np',\n",
       " 'pd',\n",
       " 'plt',\n",
       " 'px',\n",
       " 'quit',\n",
       " 'tf',\n",
       " 'var_dic_list',\n",
       " 'xxxxx']"
      ]
     },
     "execution_count": 10,
     "metadata": {},
     "output_type": "execute_result"
    }
   ],
   "source": [
    "dir()"
   ]
  },
  {
   "cell_type": "code",
   "execution_count": 9,
   "metadata": {
    "ExecuteTime": {
     "end_time": "2020-03-03T01:42:39.346193Z",
     "start_time": "2020-03-03T01:42:39.339911Z"
    }
   },
   "outputs": [],
   "source": []
  },
  {
   "cell_type": "markdown",
   "metadata": {},
   "source": [
    "## Load test file "
   ]
  },
  {
   "cell_type": "code",
   "execution_count": 35,
   "metadata": {
    "ExecuteTime": {
     "end_time": "2020-03-03T01:10:13.062710Z",
     "start_time": "2020-03-03T01:10:13.049545Z"
    }
   },
   "outputs": [
    {
     "name": "stdout",
     "output_type": "stream",
     "text": [
      "How many lines in  3985\n"
     ]
    }
   ],
   "source": [
    "with open(\"data/icwb2-data/gold/msr_test_gold.utf8\",encoding=\"utf-8\") as f:\n",
    "    msr_test=f.readlines()\n",
    "print(\"How many lines in \",len(msr_test))"
   ]
  },
  {
   "cell_type": "code",
   "execution_count": 36,
   "metadata": {
    "ExecuteTime": {
     "end_time": "2020-03-03T01:10:13.875961Z",
     "start_time": "2020-03-03T01:10:13.815381Z"
    }
   },
   "outputs": [
    {
     "name": "stdout",
     "output_type": "stream",
     "text": [
      "['十几年', '来', '，', '改革开放', '的', '中国', '经济', '高速', '发展', '，', '远东', '在', '崛起', '。']\n",
      "['BME', 'S', 'S', 'BMME', 'S', 'BE', 'BE', 'BE', 'BE', 'S', 'BE', 'S', 'BE', 'S']\n"
     ]
    }
   ],
   "source": [
    "from pprint import pprint \n",
    "msr_test_tagged=[]\n",
    "for line in msr_test:\n",
    "    word_list = line.strip().split()\n",
    "    tag=[]\n",
    "    for word in word_list:\n",
    "        if len(word) == 1:\n",
    "            tag.append(\"S\")\n",
    "        else:\n",
    "            tag.append(\"B\"+\"M\"*len(word[1:-1])+\"E\")\n",
    "    msr_test_tagged.append((word_list,tag))\n",
    "print(msr_test_tagged[5][0][:])\n",
    "print(msr_test_tagged[5][1][:])"
   ]
  },
  {
   "cell_type": "code",
   "execution_count": 37,
   "metadata": {
    "ExecuteTime": {
     "end_time": "2020-03-03T01:10:14.741920Z",
     "start_time": "2020-03-03T01:10:14.554997Z"
    }
   },
   "outputs": [
    {
     "data": {
      "text/plain": [
       "(3985, 581)"
      ]
     },
     "execution_count": 37,
     "metadata": {},
     "output_type": "execute_result"
    }
   ],
   "source": [
    "x_test=[]\n",
    "\n",
    "for text,tag in msr_test_tagged:\n",
    "    temp=[ char_dict[char] if char in char_dict else char_dict[\"unk\"] for char in \"\".join(text)]\n",
    "    if len(temp) < longest : temp+=[0]*(longest-len(temp))\n",
    "    x_test.append(temp)\n",
    "x_test = np.array(x_test)\n",
    "x_test.shape"
   ]
  },
  {
   "cell_type": "code",
   "execution_count": 38,
   "metadata": {
    "ExecuteTime": {
     "end_time": "2020-03-03T01:10:16.238850Z",
     "start_time": "2020-03-03T01:10:15.421474Z"
    }
   },
   "outputs": [
    {
     "data": {
      "text/plain": [
       "(3985, 581, 4)"
      ]
     },
     "execution_count": 38,
     "metadata": {},
     "output_type": "execute_result"
    }
   ],
   "source": [
    "tag_map={\"S\":[1,0,0,0],\"B\":[0,1,0,0],\"M\":[0,0,1,0],\"E\":[0,0,0,1]}\n",
    "y_test=[]\n",
    "for text,tag in msr_test_tagged:\n",
    "    temp=[ tag_map[tag] for tag in \"\".join(tag)]\n",
    "    if len(temp) < longest : temp += [[0,0,0,0]]*(longest-len(temp))\n",
    "    y_test.append(temp)\n",
    "y_test = np.array(y_test)\n",
    "y_test.shape"
   ]
  },
  {
   "cell_type": "code",
   "execution_count": 39,
   "metadata": {
    "ExecuteTime": {
     "end_time": "2020-03-03T01:10:16.931665Z",
     "start_time": "2020-03-03T01:10:16.922723Z"
    }
   },
   "outputs": [],
   "source": [
    "text_len=[]\n",
    "for text,tag in msr_test_tagged:\n",
    "    text_len.append(len(\"\".join(tag)))"
   ]
  },
  {
   "cell_type": "code",
   "execution_count": 40,
   "metadata": {
    "ExecuteTime": {
     "end_time": "2020-03-03T01:10:23.413913Z",
     "start_time": "2020-03-03T01:10:17.611589Z"
    }
   },
   "outputs": [
    {
     "name": "stdout",
     "output_type": "stream",
     "text": [
      "3985/3985 [==============================] - 6s 1ms/sample - loss: 0.0146 - categorical_accuracy: 0.9387 - binary_accuracy: 0.7873\n"
     ]
    },
    {
     "data": {
      "text/plain": [
       "[0.014562425545534795, 0.9387486, 0.7872623]"
      ]
     },
     "execution_count": 40,
     "metadata": {},
     "output_type": "execute_result"
    }
   ],
   "source": [
    "model.reset_metrics()\n",
    "model.evaluate(x=x_test,y=y_test)"
   ]
  },
  {
   "cell_type": "code",
   "execution_count": 41,
   "metadata": {
    "ExecuteTime": {
     "end_time": "2020-03-03T01:10:39.594400Z",
     "start_time": "2020-03-03T01:10:34.070783Z"
    },
    "scrolled": true
   },
   "outputs": [],
   "source": [
    "y_predict = model.predict(x_test)"
   ]
  },
  {
   "cell_type": "markdown",
   "metadata": {},
   "source": [
    "## Metrics - Precision, Recall, F-scores"
   ]
  },
  {
   "cell_type": "code",
   "execution_count": 49,
   "metadata": {
    "ExecuteTime": {
     "end_time": "2020-03-03T01:14:32.156251Z",
     "start_time": "2020-03-03T01:14:31.950925Z"
    },
    "scrolled": true
   },
   "outputs": [
    {
     "data": {
      "text/plain": [
       "<matplotlib.axes._subplots.AxesSubplot at 0x153c298d788>"
      ]
     },
     "execution_count": 49,
     "metadata": {},
     "output_type": "execute_result"
    },
    {
     "data": {
      "image/png": "[encoded data removed]",
      "text/plain": [
       "<Figure size 432x288 with 1 Axes>"
      ]
     },
     "metadata": {
      "needs_background": "light"
     },
     "output_type": "display_data"
    }
   ],
   "source": [
    "class word_segment_metrics:\n",
    "    def __init__(self,y_predict,y_true,text_len):\n",
    "        self.y_predict_flat, self.y_true_flat = self.flatten_and_truncat(y_predict,y_true,text_len)\n",
    "        self.prf = self.prf_calculator()\n",
    "        \n",
    "    def flatten_and_truncat(self,y_predict,y_true,text_len):\n",
    "        y_predict_flat = []\n",
    "        y_true_flat = []\n",
    "        for row_predict,row_true,size in zip(y_predict.argmax(-1),y_true.argmax(-1),text_len):\n",
    "            y_predict_flat+=row_predict[:size].tolist()\n",
    "            y_true_flat+=row_true[:size].tolist()   \n",
    "        return np.array(y_predict_flat), np.array(y_true_flat)\n",
    "    def prf_calculator(self):\n",
    "        p_pred_S=len(self.y_predict_flat[self.y_predict_flat==0])\n",
    "        p_true_S = len(self.y_true_flat[self.y_true_flat==0])\n",
    "        tp_S = len(self.y_predict_flat[(self.y_predict_flat==0) *(self.y_true_flat==0)])\n",
    "        P_S=tp_S/p_pred_S\n",
    "        R_S=tp_S/p_true_S\n",
    "        F_S = 2*((P_S*R_S)/(P_S+R_S))\n",
    "        \n",
    "        p_pred_B=len(self.y_predict_flat[self.y_predict_flat==1])\n",
    "        p_true_B = len(self.y_true_flat[self.y_true_flat==1])\n",
    "        tp_B = len(self.y_predict_flat[(self.y_predict_flat==1) *(self.y_true_flat==1)])\n",
    "        P_B=tp_B/p_pred_B\n",
    "        R_B=tp_B/p_true_B\n",
    "        F_B = 2*((P_B*R_B)/(P_B+R_B))\n",
    "\n",
    "        p_pred_M=len(self.y_predict_flat[self.y_predict_flat==2])\n",
    "        p_true_M = len(self.y_true_flat[self.y_true_flat==2])\n",
    "        tp_M = len(self.y_predict_flat[(self.y_predict_flat==2) *(self.y_true_flat==2)])\n",
    "        P_M=tp_M/p_pred_M\n",
    "        R_M=tp_M/p_true_M\n",
    "        F_M = 2*((P_M*R_M)/(P_M+R_M))\n",
    "\n",
    "        p_pred_E=len(self.y_predict_flat[self.y_predict_flat==3])\n",
    "        p_true_E = len(self.y_true_flat[self.y_true_flat==3])  \n",
    "        tp_E = len(self.y_predict_flat[(self.y_predict_flat==3) *(self.y_true_flat==3)])\n",
    "        P_E=tp_E/p_pred_E\n",
    "        R_E=tp_E/p_true_E\n",
    "        F_E = 2*((P_E*R_E)/(P_E+R_E))\n",
    "\n",
    "        return {\n",
    "            \"P_S\":P_S, \"P_B\":P_B, \"P_M\":P_M, \"P_E\":P_E,\n",
    "            \"R_S\":R_S, \"R_B\":R_B, \"R_M\":R_M, \"R_E\":R_E,\n",
    "            \"F_S\":F_S, \"F_B\":F_B, \"F_M\":F_M, \"F_E\":F_E,\n",
    "               }\n",
    "ws_metrics=word_segment_metrics(y_predict,y_test,text_len)\n",
    "pd.Series(ws_metrics.prf)[:4].plot(kind=\"bar\")\n",
    "pd.Series(ws_metrics.prf)[4:8].plot(kind=\"bar\")\n",
    "pd.Series(ws_metrics.prf)[8:12].plot(kind=\"bar\")"
   ]
  },
  {
   "cell_type": "code",
   "execution_count": null,
   "metadata": {},
   "outputs": [],
   "source": []
  }
 ],
 "metadata": {
  "kernelspec": {
   "display_name": "Python 3.7.4 64-bit ('base': conda)",
   "language": "python",
   "name": "python37464bitbaseconda8339005692544cc1a318c8715db0ea3f"
  },
  "language_info": {
   "codemirror_mode": {
    "name": "ipython",
    "version": 3
   },
   "file_extension": ".py",
   "mimetype": "text/x-python",
   "name": "python",
   "nbconvert_exporter": "python",
   "pygments_lexer": "ipython3",
   "version": "3.7.4"
  },
  "toc": {
   "base_numbering": 1,
   "nav_menu": {},
   "number_sections": true,
   "sideBar": true,
   "skip_h1_title": false,
   "title_cell": "Table of Contents",
   "title_sidebar": "Contents",
   "toc_cell": false,
   "toc_position": {
    "height": "541px",
    "left": "248px",
    "top": "255px",
    "width": "197.594px"
   },
   "toc_section_display": true,
   "toc_window_display": true
  },
  "varInspector": {
   "cols": {
    "lenName": 16,
    "lenType": 16,
    "lenVar": 40
   },
   "kernels_config": {
    "python": {
     "delete_cmd_postfix": "",
     "delete_cmd_prefix": "del ",
     "library": "var_list.py",
     "varRefreshCmd": "print(var_dic_list())"
    },
    "r": {
     "delete_cmd_postfix": ") ",
     "delete_cmd_prefix": "rm(",
     "library": "var_list.r",
     "varRefreshCmd": "cat(var_dic_list()) "
    }
   },
   "types_to_exclude": [
    "module",
    "function",
    "builtin_function_or_method",
    "instance",
    "_Feature"
   ],
   "window_display": false
  }
 },
 "nbformat": 4,
 "nbformat_minor": 2
}
