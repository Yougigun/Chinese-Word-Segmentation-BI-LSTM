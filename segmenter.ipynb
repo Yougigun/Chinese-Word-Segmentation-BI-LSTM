{
 "cells": [
  {
   "cell_type": "code",
   "execution_count": 3,
   "metadata": {
    "ExecuteTime": {
     "end_time": "2020-03-04T04:00:22.967413Z",
     "start_time": "2020-03-04T04:00:22.954414Z"
    }
   },
   "outputs": [],
   "source": [
    "model_config = model.get_config()\n",
    "model_config.keys()\n",
    "# text_longest_size = model_config[\"layers\"][2][\"config\"][\"batch_input_shape\"][1]\n"
   ]
  },
  {
   "cell_type": "code",
   "execution_count": 4,
   "metadata": {
    "ExecuteTime": {
     "end_time": "2020-03-04T04:00:23.049416Z",
     "start_time": "2020-03-04T04:00:23.042419Z"
    }
   },
   "outputs": [],
   "source": [
    "import pickle"
   ]
  },
  {
   "cell_type": "code",
   "execution_count": 66,
   "metadata": {
    "ExecuteTime": {
     "end_time": "2020-03-04T05:55:37.150893Z",
     "start_time": "2020-03-04T05:55:35.701526Z"
    },
    "code_folding": [
     5,
     7,
     16,
     55
    ]
   },
   "outputs": [
    {
     "name": "stdout",
     "output_type": "stream",
     "text": [
      "model:  BiGRU.h5\n",
      "Word segmenting...\n",
      "Word segmentation done. \n",
      "Cost:  0.53s\n",
      "请 直接 放上 想 分词 的 句子 取代 ...\n"
     ]
    }
   ],
   "source": [
    "import tensorflow as tf\n",
    "import pickle\n",
    "import time\n",
    "model_file = [file  for file  in  os.listdir() if \".h5\" in file][0]\n",
    "print(\"model: \",model_file)\n",
    "model = tf.keras.models.load_model(model_file)\n",
    "with open(\"char_dict.p\",\"rb\") as f :\n",
    "    char_dict = pickle.load(f)\n",
    "with open(\"text.txt\",\"r\",encoding=\"utf-8\") as f :\n",
    "    text = f.read()\n",
    "\n",
    "print(\"Word segmenting...\")\n",
    "s= time.time()\n",
    "x=[[char_dict.get(char,char_dict[\"unk\"])  for char in text]]  \n",
    "tag = model.predict(x).argmax(-1).squeeze()\n",
    "split = []\n",
    "ni=0\n",
    "while ni<len(tag):\n",
    "    i = tag[ni]\n",
    "    if i == 0 or i==3: \n",
    "        split.append((ni,ni))\n",
    "        ni+=1\n",
    "        continue\n",
    "    for nj,j in enumerate(tag[ni+1:]):\n",
    "        if j==2 : continue\n",
    "        if i==1 and j==0 :\n",
    "            split.append((ni,ni+nj))\n",
    "            ni+=nj+1\n",
    "            break\n",
    "            \n",
    "        if i==1 and j==1 :\n",
    "            split.append((ni,ni+nj))\n",
    "            ni+=nj+1\n",
    "            break\n",
    "            \n",
    "        if i==1 and j==3 : \n",
    "            split.append((ni,ni+nj+1))\n",
    "            ni+=nj+1+1\n",
    "            break\n",
    "            \n",
    "        if i==2 and j==0:\n",
    "            split.append((ni,nj))\n",
    "            ni+=nj+1\n",
    "            break\n",
    "            \n",
    "        if i==2 and j==1 :\n",
    "            split.append((ni,nj))\n",
    "            ni+=nj+1\n",
    "            break\n",
    "            \n",
    "        if i== 2 and j==3 : \n",
    "            split.append((ni,ni+nj+1))\n",
    "            ni+=nj+1+1\n",
    "            break\n",
    "\n",
    "text_seg=\"\"\n",
    "for sep in split:\n",
    "    start = sep[0]\n",
    "    end = sep[1]\n",
    "    if start == end:\n",
    "        text_seg += text[start]+\" \"\n",
    "    else:\n",
    "        text_seg += text[start:(end+1)]+\" \"\n",
    "        \n",
    "e= time.time()\n",
    "print(\"Word segmentation done.\",\"\\nCost: \",\"{}s\".format(round(e-s,2)))\n",
    "with open(\"text_seg.txt\",\"w\",encoding=\"utf-8\") as f :\n",
    "    f.write(text_seg)\n",
    "print(text_seg[:20]+\" ...\")"
   ]
  },
  {
   "cell_type": "code",
   "execution_count": 60,
   "metadata": {
    "ExecuteTime": {
     "end_time": "2020-03-04T05:51:52.149455Z",
     "start_time": "2020-03-04T05:51:52.143140Z"
    }
   },
   "outputs": [
    {
     "data": {
      "text/plain": [
       "'aaaaaa'"
      ]
     },
     "execution_count": 60,
     "metadata": {},
     "output_type": "execute_result"
    }
   ],
   "source": [
    "\"aaaaaa\"[:100]"
   ]
  },
  {
   "cell_type": "code",
   "execution_count": 20,
   "metadata": {
    "ExecuteTime": {
     "end_time": "2020-03-04T05:27:33.201937Z",
     "start_time": "2020-03-04T05:27:33.193456Z"
    }
   },
   "outputs": [],
   "source": [
    "x"
   ]
  },
  {
   "cell_type": "code",
   "execution_count": 21,
   "metadata": {
    "ExecuteTime": {
     "end_time": "2020-03-04T05:27:38.983011Z",
     "start_time": "2020-03-04T05:27:38.980009Z"
    }
   },
   "outputs": [],
   "source": [
    "import os"
   ]
  },
  {
   "cell_type": "code",
   "execution_count": 25,
   "metadata": {
    "ExecuteTime": {
     "end_time": "2020-03-04T05:28:39.552348Z",
     "start_time": "2020-03-04T05:28:39.546348Z"
    }
   },
   "outputs": [
    {
     "data": {
      "text/plain": [
       "['BiGRU.h5', 'BiLSTM.h5']"
      ]
     },
     "execution_count": 25,
     "metadata": {},
     "output_type": "execute_result"
    }
   ],
   "source": [
    "model_file = [file  for file  in  os.listdir() if \".h5\" in file]"
   ]
  },
  {
   "cell_type": "code",
   "execution_count": null,
   "metadata": {},
   "outputs": [],
   "source": []
  }
 ],
 "metadata": {
  "kernelspec": {
   "display_name": "Python 3.7.4 64-bit ('base': conda)",
   "language": "python",
   "name": "python37464bitbaseconda8339005692544cc1a318c8715db0ea3f"
  },
  "language_info": {
   "codemirror_mode": {
    "name": "ipython",
    "version": 3
   },
   "file_extension": ".py",
   "mimetype": "text/x-python",
   "name": "python",
   "nbconvert_exporter": "python",
   "pygments_lexer": "ipython3",
   "version": "3.7.4"
  },
  "toc": {
   "base_numbering": 1,
   "nav_menu": {},
   "number_sections": true,
   "sideBar": true,
   "skip_h1_title": false,
   "title_cell": "Table of Contents",
   "title_sidebar": "Contents",
   "toc_cell": false,
   "toc_position": {},
   "toc_section_display": true,
   "toc_window_display": false
  },
  "varInspector": {
   "cols": {
    "lenName": 16,
    "lenType": 16,
    "lenVar": 40
   },
   "kernels_config": {
    "python": {
     "delete_cmd_postfix": "",
     "delete_cmd_prefix": "del ",
     "library": "var_list.py",
     "varRefreshCmd": "print(var_dic_list())"
    },
    "r": {
     "delete_cmd_postfix": ") ",
     "delete_cmd_prefix": "rm(",
     "library": "var_list.r",
     "varRefreshCmd": "cat(var_dic_list()) "
    }
   },
   "types_to_exclude": [
    "module",
    "function",
    "builtin_function_or_method",
    "instance",
    "_Feature"
   ],
   "window_display": false
  }
 },
 "nbformat": 4,
 "nbformat_minor": 2
}
